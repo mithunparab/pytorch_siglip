{
 "cells": [
  {
   "cell_type": "code",
   "execution_count": 1,
   "metadata": {
    "execution": {
     "iopub.execute_input": "2025-04-25T14:20:50.607577Z",
     "iopub.status.busy": "2025-04-25T14:20:50.607331Z",
     "iopub.status.idle": "2025-04-25T14:21:00.540454Z",
     "shell.execute_reply": "2025-04-25T14:21:00.539516Z",
     "shell.execute_reply.started": "2025-04-25T14:20:50.607557Z"
    },
    "trusted": true
   },
   "outputs": [
    {
     "name": "stdout",
     "output_type": "stream",
     "text": [
      "--2025-04-25 14:20:50--  https://img.freepik.com/free-psd/banana-character-isolated_23-2151170924.jpg\n",
      "Resolving img.freepik.com (img.freepik.com)... 23.46.63.122, 23.46.63.129, 2600:1417:76::6874:f311, ...\n",
      "Connecting to img.freepik.com (img.freepik.com)|23.46.63.122|:443... connected.\n",
      "HTTP request sent, awaiting response... 200 OK\n",
      "Length: 42293 (41K) [image/jpeg]\n",
      "Saving to: ‘banana.jpg’\n",
      "\n",
      "banana.jpg          100%[===================>]  41.30K   106KB/s    in 0.4s    \n",
      "\n",
      "2025-04-25 14:20:52 (106 KB/s) - ‘banana.jpg’ saved [42293/42293]\n",
      "\n",
      "Downloading...\n",
      "From: https://drive.google.com/uc?id=1CY3tgjFaDM8Tb4eASwFLMCQNPWQ6XIN1\n",
      "To: /kaggle/working/Siglip.zip\n",
      "100%|██████████████████████████████████████| 11.4k/11.4k [00:00<00:00, 45.9MB/s]\n"
     ]
    }
   ],
   "source": [
    "!wget \"https://img.freepik.com/free-psd/banana-character-isolated_23-2151170924.jpg\" -O \"banana.jpg\"\n",
    "!pip install -q gdown\n",
    "!gdown \"1CY3tgjFaDM8Tb4eASwFLMCQNPWQ6XIN1\"\n",
    "!unzip -qq Siglip.zip"
   ]
  },
  {
   "cell_type": "code",
   "execution_count": 2,
   "metadata": {
    "execution": {
     "iopub.execute_input": "2025-04-25T14:21:00.542333Z",
     "iopub.status.busy": "2025-04-25T14:21:00.542106Z",
     "iopub.status.idle": "2025-04-25T14:21:00.548697Z",
     "shell.execute_reply": "2025-04-25T14:21:00.548094Z",
     "shell.execute_reply.started": "2025-04-25T14:21:00.542309Z"
    },
    "trusted": true
   },
   "outputs": [
    {
     "name": "stdout",
     "output_type": "stream",
     "text": [
      "/kaggle/working/Siglip\n"
     ]
    }
   ],
   "source": [
    "%cd Siglip"
   ]
  },
  {
   "cell_type": "code",
   "execution_count": 4,
   "metadata": {
    "execution": {
     "iopub.execute_input": "2025-04-25T14:21:00.564318Z",
     "iopub.status.busy": "2025-04-25T14:21:00.564090Z",
     "iopub.status.idle": "2025-04-25T15:04:32.292402Z",
     "shell.execute_reply": "2025-04-25T15:04:32.291660Z",
     "shell.execute_reply.started": "2025-04-25T14:21:00.564302Z"
    },
    "trusted": true
   },
   "outputs": [
    {
     "name": "stdout",
     "output_type": "stream",
     "text": [
      "W0425 14:21:04.366000 80 torch/distributed/run.py:793] \n",
      "W0425 14:21:04.366000 80 torch/distributed/run.py:793] *****************************************\n",
      "W0425 14:21:04.366000 80 torch/distributed/run.py:793] Setting OMP_NUM_THREADS environment variable for each process to be 1 in default, to avoid your system being overloaded, please further tune the variable for optimal performance in your application as needed. \n",
      "W0425 14:21:04.366000 80 torch/distributed/run.py:793] *****************************************\n",
      "2025-04-25 14:21:13.604182: E external/local_xla/xla/stream_executor/cuda/cuda_fft.cc:477] Unable to register cuFFT factory: Attempting to register factory for plugin cuFFT when one has already been registered\n",
      "2025-04-25 14:21:13.604181: E external/local_xla/xla/stream_executor/cuda/cuda_fft.cc:477] Unable to register cuFFT factory: Attempting to register factory for plugin cuFFT when one has already been registered\n",
      "WARNING: All log messages before absl::InitializeLog() is called are written to STDERR\n",
      "E0000 00:00:1745590873.794932      82 cuda_dnn.cc:8310] Unable to register cuDNN factory: Attempting to register factory for plugin cuDNN when one has already been registered\n",
      "WARNING: All log messages before absl::InitializeLog() is called are written to STDERR\n",
      "E0000 00:00:1745590873.794917      83 cuda_dnn.cc:8310] Unable to register cuDNN factory: Attempting to register factory for plugin cuDNN when one has already been registered\n",
      "E0000 00:00:1745590873.850243      83 cuda_blas.cc:1418] Unable to register cuBLAS factory: Attempting to register factory for plugin cuBLAS when one has already been registered\n",
      "E0000 00:00:1745590873.850245      82 cuda_blas.cc:1418] Unable to register cuBLAS factory: Attempting to register factory for plugin cuBLAS when one has already been registered\n",
      "Config loaded from config.yaml\n",
      "Config loaded from config.yaml\n",
      "Default device (pre-DDP): cudaDefault device (pre-DDP): cuda\n",
      "\n",
      "Auto num_workers: 2Auto num_workers: 2\n",
      "\n",
      "Using HF Model: google/siglip-base-patch16-256-multilingualUsing HF Model: google/siglip-base-patch16-256-multilingual\n",
      "\n",
      "Checking multilingual caption files:Checking multilingual caption files:\n",
      "\n",
      "  -> Found 'english': /kaggle/input/flickr8k/captions.txt\n",
      "  -> Found 'english': /kaggle/input/flickr8k/captions.txt\n",
      "  -> Found 'hindi': /kaggle/input/multi-lang/hindi_captions.txt  -> Found 'hindi': /kaggle/input/multi-lang/hindi_captions.txt\n",
      "\n",
      "  -> Found 'marathi': /kaggle/input/multi-lang/marathi-captions.txt  -> Found 'marathi': /kaggle/input/multi-lang/marathi-captions.txt\n",
      "\n",
      "------------------------------\n",
      "------------------------------\n",
      "Running DDP on 2 GPUs. Process 0 on cuda:0.\n",
      "Seed set for rank 0: 42\n",
      "Loading multilingual data...\n",
      "Total captions loaded: 121365\n",
      "Splitting data...\n",
      "  Train: 97080, Valid: 24285\n",
      "Creating datasets...\n",
      "  Dataset sizes -> Train: 97080, Valid: 24285\n",
      "Initializing HF Processor from: google/siglip-base-patch16-256-multilingual\n",
      "preprocessor_config.json: 100%|████████████████| 368/368 [00:00<00:00, 2.93MB/s]\n",
      "Using a slow image processor as `use_fast` is unset and a slow processor was saved with this model. `use_fast=True` will be the default behavior in v4.52, even if the model was saved with a slow processor. This will result in minor differences in outputs. You'll still be able to use a slow processor with `use_fast=False`.\n",
      "Using a slow image processor as `use_fast` is unset and a slow processor was saved with this model. `use_fast=True` will be the default behavior in v4.52, even if the model was saved with a slow processor. This will result in minor differences in outputs. You'll still be able to use a slow processor with `use_fast=False`.\n",
      "tokenizer_config.json: 100%|███████████████████| 711/711 [00:00<00:00, 4.71MB/s]\n",
      "spiece.model: 100%|████████████████████████| 4.31M/4.31M [00:00<00:00, 20.0MB/s]\n",
      "special_tokens_map.json: 100%|█████████████████| 409/409 [00:00<00:00, 2.98MB/s]\n",
      "tokenizer.json: 100%|██████████████████████| 16.4M/16.4M [00:00<00:00, 37.2MB/s]\n",
      "Creating DDP dataloaders...\n",
      "  Loaders created. Global batch size: 64\n",
      "Initializing model wrapper...\n",
      "Loading pre-trained model: google/siglip-base-patch16-256-multilingual\n",
      "config.json: 100%|█████████████████████████████| 348/348 [00:00<00:00, 2.73MB/s]\n",
      "model.safetensors: 100%|███████████████████| 1.48G/1.48G [00:58<00:00, 25.2MB/s]\n",
      "Model loaded successfully.\n",
      "Model wrapped with DDP.\n",
      "LR Schedule: Start=1.0e-05, Max=3.2e-04, Min=1.0e-06 | Ramp=1, Sus=0, Decay=1\n",
      "Loss, Optimizer, Scheduler, AMP(=True) setup complete.\n",
      "\n",
      "Starting training for 2 epochs...\n",
      "\n",
      "--- Epoch 1/2 | LR: 1.00e-05 ---\n",
      "Epoch 1 Summary: Train Loss: 0.5648 | Valid Loss: 6.7651                        \n",
      "  -> Best model saved to 'best_hf_siglip_model.pth' (Val Loss: 6.7651)\n",
      "\n",
      "--- Epoch 2/2 | LR: 3.20e-04 ---\n",
      "Epoch 2 Summary: Train Loss: 2.5175 | Valid Loss: 4.1315                        \n",
      "  -> Best model saved to 'best_hf_siglip_model.pth' (Val Loss: 4.1315)\n",
      "\n",
      "==============================\n",
      "Training finished.\n",
      "Best validation loss: 4.1315\n",
      "Model saved: best_hf_siglip_model.pth\n",
      "==============================\n"
     ]
    }
   ],
   "source": [
    "# !python train.py --config config.yaml\n",
    "\n",
    "# Launch using torchrun\n",
    "!torchrun --nproc_per_node=2 --nnodes=1 --node_rank=0  train.py --config config.yaml"
   ]
  },
  {
   "cell_type": "code",
   "execution_count": 5,
   "metadata": {
    "execution": {
     "iopub.execute_input": "2025-04-25T15:04:32.294729Z",
     "iopub.status.busy": "2025-04-25T15:04:32.294497Z",
     "iopub.status.idle": "2025-04-25T15:04:52.809297Z",
     "shell.execute_reply": "2025-04-25T15:04:52.808402Z",
     "shell.execute_reply.started": "2025-04-25T15:04:32.294708Z"
    },
    "trusted": true
   },
   "outputs": [
    {
     "name": "stdout",
     "output_type": "stream",
     "text": [
      "2025-04-25 15:04:36.279282: E external/local_xla/xla/stream_executor/cuda/cuda_fft.cc:477] Unable to register cuFFT factory: Attempting to register factory for plugin cuFFT when one has already been registered\n",
      "WARNING: All log messages before absl::InitializeLog() is called are written to STDERR\n",
      "E0000 00:00:1745593476.300842     220 cuda_dnn.cc:8310] Unable to register cuDNN factory: Attempting to register factory for plugin cuDNN when one has already been registered\n",
      "E0000 00:00:1745593476.308242     220 cuda_blas.cc:1418] Unable to register cuBLAS factory: Attempting to register factory for plugin cuBLAS when one has already been registered\n",
      "Config loaded from config.yaml\n",
      "Default device (pre-DDP): cuda\n",
      "Auto num_workers: 2\n",
      "Using HF Model: google/siglip-base-patch16-256-multilingual\n",
      "Checking multilingual caption files:\n",
      "  -> Found 'english': /kaggle/input/flickr8k/captions.txt\n",
      "  -> Found 'hindi': /kaggle/input/multi-lang/hindi_captions.txt\n",
      "  -> Found 'marathi': /kaggle/input/multi-lang/marathi-captions.txt\n",
      "------------------------------\n",
      "--- Starting Zero-Shot Classification (Lang: english) ---\n",
      "Image: ../banana.jpg\n",
      "Labels: ['banana', 'apple', 'car']\n",
      "Using model weights: best_hf_siglip_model.pth\n",
      "Base HF Model: google/siglip-base-patch16-256-multilingual\n",
      "Using device: cuda\n",
      "Initializing HF Processor: google/siglip-base-patch16-256-multilingual\n",
      "Using a slow image processor as `use_fast` is unset and a slow processor was saved with this model. `use_fast=True` will be the default behavior in v4.52, even if the model was saved with a slow processor. This will result in minor differences in outputs. You'll still be able to use a slow processor with `use_fast=False`.\n",
      "Initializing model wrapper...\n",
      "Loading pre-trained model: google/siglip-base-patch16-256-multilingual\n",
      "Model loaded successfully.\n",
      "/kaggle/working/Siglip/test.py:82: FutureWarning: You are using `torch.load` with `weights_only=False` (the current default value), which uses the default pickle module implicitly. It is possible to construct malicious pickle data which will execute arbitrary code during unpickling (See https://github.com/pytorch/pytorch/blob/main/SECURITY.md#untrusted-models for more details). In a future release, the default value for `weights_only` will be flipped to `True`. This limits the functions that could be executed during unpickling. Arbitrary objects will no longer be allowed to be loaded via this mode unless they are explicitly allowlisted by the user via `torch.serialization.add_safe_globals`. We recommend you start setting `weights_only=True` for any use case where you don't have full control of the loaded file. Please open an issue on GitHub for any issues related to this experimental feature.\n",
      "  model.load_state_dict(torch.load(model_path, map_location=device))\n",
      "Model wrapper created and fine-tuned weights loaded.\n",
      "------------------------------\n",
      "Processing input image...\n",
      "Generating prompts using 'english' template...\n",
      "  Prompts: ['a photo of a banana', 'a photo of a apple', 'a photo of a car']\n",
      "Preparing model inputs using processor...\n",
      "Inputs prepared for model.\n",
      "------------------------------\n",
      "Encoding features and calculating similarities...\n",
      "Similarity calculation complete.\n",
      "------------------------------\n",
      "\n",
      "--- Zero-Shot Classification Results ---\n",
      "Image: banana.jpg\n",
      "Prompt Language: english\n",
      "-----------------------------------\n",
      "              banana : 0.0010 (0.1%)\n",
      "               apple : 0.0005 (0.0%)\n",
      "                 car : 0.0004 (0.0%)\n",
      "-----------------------------------\n",
      "Warning: Could not display plot: 'types.SimpleNamespace' object has no attribute 'language'\n",
      "--- Classification Finished ---\n",
      "\n",
      "Prediction Dictionary:\n",
      " {'banana': 0.0010043485090136528, 'apple': 0.0004986205021850765, 'car': 0.0003958467859774828}\n"
     ]
    }
   ],
   "source": [
    "!python test.py --config config.yaml --image ../banana.jpg --labels \"banana\" \"apple\" \"car\" --model_path best_hf_siglip_model.pth"
   ]
  },
  {
   "cell_type": "markdown",
   "metadata": {},
   "source": [
    "## Hindi"
   ]
  },
  {
   "cell_type": "code",
   "execution_count": 7,
   "metadata": {
    "execution": {
     "iopub.execute_input": "2025-04-25T15:05:01.865479Z",
     "iopub.status.busy": "2025-04-25T15:05:01.865261Z",
     "iopub.status.idle": "2025-04-25T15:05:22.359308Z",
     "shell.execute_reply": "2025-04-25T15:05:22.358408Z",
     "shell.execute_reply.started": "2025-04-25T15:05:01.865440Z"
    },
    "trusted": true
   },
   "outputs": [
    {
     "name": "stdout",
     "output_type": "stream",
     "text": [
      "2025-04-25 15:05:05.661860: E external/local_xla/xla/stream_executor/cuda/cuda_fft.cc:477] Unable to register cuFFT factory: Attempting to register factory for plugin cuFFT when one has already been registered\n",
      "WARNING: All log messages before absl::InitializeLog() is called are written to STDERR\n",
      "E0000 00:00:1745593505.682771     250 cuda_dnn.cc:8310] Unable to register cuDNN factory: Attempting to register factory for plugin cuDNN when one has already been registered\n",
      "E0000 00:00:1745593505.688947     250 cuda_blas.cc:1418] Unable to register cuBLAS factory: Attempting to register factory for plugin cuBLAS when one has already been registered\n",
      "Config loaded from config.yaml\n",
      "Default device (pre-DDP): cuda\n",
      "Auto num_workers: 2\n",
      "Using HF Model: google/siglip-base-patch16-256-multilingual\n",
      "Checking multilingual caption files:\n",
      "  -> Found 'english': /kaggle/input/flickr8k/captions.txt\n",
      "  -> Found 'hindi': /kaggle/input/multi-lang/hindi_captions.txt\n",
      "  -> Found 'marathi': /kaggle/input/multi-lang/marathi-captions.txt\n",
      "------------------------------\n",
      "--- Starting Zero-Shot Classification (Lang: hindi) ---\n",
      "Image: ../banana.jpg\n",
      "Labels: ['केला', 'सेब', 'गाड़ी']\n",
      "Using model weights: best_hf_siglip_model.pth\n",
      "Base HF Model: google/siglip-base-patch16-256-multilingual\n",
      "Using device: cuda\n",
      "Initializing HF Processor: google/siglip-base-patch16-256-multilingual\n",
      "Using a slow image processor as `use_fast` is unset and a slow processor was saved with this model. `use_fast=True` will be the default behavior in v4.52, even if the model was saved with a slow processor. This will result in minor differences in outputs. You'll still be able to use a slow processor with `use_fast=False`.\n",
      "Initializing model wrapper...\n",
      "Loading pre-trained model: google/siglip-base-patch16-256-multilingual\n",
      "Model loaded successfully.\n",
      "/kaggle/working/Siglip/test.py:82: FutureWarning: You are using `torch.load` with `weights_only=False` (the current default value), which uses the default pickle module implicitly. It is possible to construct malicious pickle data which will execute arbitrary code during unpickling (See https://github.com/pytorch/pytorch/blob/main/SECURITY.md#untrusted-models for more details). In a future release, the default value for `weights_only` will be flipped to `True`. This limits the functions that could be executed during unpickling. Arbitrary objects will no longer be allowed to be loaded via this mode unless they are explicitly allowlisted by the user via `torch.serialization.add_safe_globals`. We recommend you start setting `weights_only=True` for any use case where you don't have full control of the loaded file. Please open an issue on GitHub for any issues related to this experimental feature.\n",
      "  model.load_state_dict(torch.load(model_path, map_location=device))\n",
      "Model wrapper created and fine-tuned weights loaded.\n",
      "------------------------------\n",
      "Processing input image...\n",
      "Generating prompts using 'hindi' template...\n",
      "  Prompts: ['यह केला का फोटो है', 'यह सेब का फोटो है', 'यह गाड़ी का फोटो है']\n",
      "Preparing model inputs using processor...\n",
      "Inputs prepared for model.\n",
      "------------------------------\n",
      "Encoding features and calculating similarities...\n",
      "Similarity calculation complete.\n",
      "------------------------------\n",
      "\n",
      "--- Zero-Shot Classification Results ---\n",
      "Image: banana.jpg\n",
      "Prompt Language: hindi\n",
      "-----------------------------------\n",
      "                 सेब : 0.0160 (1.6%)\n",
      "                केला : 0.0117 (1.2%)\n",
      "               गाड़ी : 0.0039 (0.4%)\n",
      "-----------------------------------\n",
      "Warning: Could not display plot: 'types.SimpleNamespace' object has no attribute 'language'\n",
      "--- Classification Finished ---\n",
      "\n",
      "Prediction Dictionary:\n",
      " {'केला': 0.011676192283630371, 'सेब': 0.015999287366867065, 'गाड़ी': 0.0038516477216035128}\n"
     ]
    }
   ],
   "source": [
    "!python test.py --config config.yaml --image ../banana.jpg --language \"hindi\" --labels \"केला\" \"सेब\" \"गाड़ी\" --model_path best_hf_siglip_model.pth"
   ]
  },
  {
   "cell_type": "markdown",
   "metadata": {},
   "source": [
    "## Marathi"
   ]
  },
  {
   "cell_type": "code",
   "execution_count": 8,
   "metadata": {
    "execution": {
     "iopub.execute_input": "2025-04-25T15:05:22.360676Z",
     "iopub.status.busy": "2025-04-25T15:05:22.360371Z",
     "iopub.status.idle": "2025-04-25T15:05:43.648278Z",
     "shell.execute_reply": "2025-04-25T15:05:43.647378Z",
     "shell.execute_reply.started": "2025-04-25T15:05:22.360652Z"
    },
    "trusted": true
   },
   "outputs": [
    {
     "name": "stdout",
     "output_type": "stream",
     "text": [
      "2025-04-25 15:05:26.179072: E external/local_xla/xla/stream_executor/cuda/cuda_fft.cc:477] Unable to register cuFFT factory: Attempting to register factory for plugin cuFFT when one has already been registered\n",
      "WARNING: All log messages before absl::InitializeLog() is called are written to STDERR\n",
      "E0000 00:00:1745593526.199725     268 cuda_dnn.cc:8310] Unable to register cuDNN factory: Attempting to register factory for plugin cuDNN when one has already been registered\n",
      "E0000 00:00:1745593526.206034     268 cuda_blas.cc:1418] Unable to register cuBLAS factory: Attempting to register factory for plugin cuBLAS when one has already been registered\n",
      "Config loaded from config.yaml\n",
      "Default device (pre-DDP): cuda\n",
      "Auto num_workers: 2\n",
      "Using HF Model: google/siglip-base-patch16-256-multilingual\n",
      "Checking multilingual caption files:\n",
      "  -> Found 'english': /kaggle/input/flickr8k/captions.txt\n",
      "  -> Found 'hindi': /kaggle/input/multi-lang/hindi_captions.txt\n",
      "  -> Found 'marathi': /kaggle/input/multi-lang/marathi-captions.txt\n",
      "------------------------------\n",
      "--- Starting Zero-Shot Classification (Lang: marathi) ---\n",
      "Image: ../banana.jpg\n",
      "Labels: ['केळं', 'सफरचंद', 'गाडी']\n",
      "Using model weights: best_hf_siglip_model.pth\n",
      "Base HF Model: google/siglip-base-patch16-256-multilingual\n",
      "Using device: cuda\n",
      "Initializing HF Processor: google/siglip-base-patch16-256-multilingual\n",
      "Using a slow image processor as `use_fast` is unset and a slow processor was saved with this model. `use_fast=True` will be the default behavior in v4.52, even if the model was saved with a slow processor. This will result in minor differences in outputs. You'll still be able to use a slow processor with `use_fast=False`.\n",
      "Initializing model wrapper...\n",
      "Loading pre-trained model: google/siglip-base-patch16-256-multilingual\n",
      "Model loaded successfully.\n",
      "/kaggle/working/Siglip/test.py:82: FutureWarning: You are using `torch.load` with `weights_only=False` (the current default value), which uses the default pickle module implicitly. It is possible to construct malicious pickle data which will execute arbitrary code during unpickling (See https://github.com/pytorch/pytorch/blob/main/SECURITY.md#untrusted-models for more details). In a future release, the default value for `weights_only` will be flipped to `True`. This limits the functions that could be executed during unpickling. Arbitrary objects will no longer be allowed to be loaded via this mode unless they are explicitly allowlisted by the user via `torch.serialization.add_safe_globals`. We recommend you start setting `weights_only=True` for any use case where you don't have full control of the loaded file. Please open an issue on GitHub for any issues related to this experimental feature.\n",
      "  model.load_state_dict(torch.load(model_path, map_location=device))\n",
      "Model wrapper created and fine-tuned weights loaded.\n",
      "------------------------------\n",
      "Processing input image...\n",
      "Generating prompts using 'marathi' template...\n",
      "  Prompts: ['केळं चे छायाचित्र', 'सफरचंद चे छायाचित्र', 'गाडी चे छायाचित्र']\n",
      "Preparing model inputs using processor...\n",
      "Inputs prepared for model.\n",
      "------------------------------\n",
      "Encoding features and calculating similarities...\n",
      "Similarity calculation complete.\n",
      "------------------------------\n",
      "\n",
      "--- Zero-Shot Classification Results ---\n",
      "Image: banana.jpg\n",
      "Prompt Language: marathi\n",
      "-----------------------------------\n",
      "                गाडी : 0.0020 (0.2%)\n",
      "                केळं : 0.0007 (0.1%)\n",
      "              सफरचंद : 0.0005 (0.1%)\n",
      "-----------------------------------\n",
      "Warning: Could not display plot: 'types.SimpleNamespace' object has no attribute 'language'\n",
      "--- Classification Finished ---\n",
      "\n",
      "Prediction Dictionary:\n",
      " {'केळं': 0.000748664780985564, 'सफरचंद': 0.0005276041338220239, 'गाडी': 0.0020144206937402487}\n"
     ]
    }
   ],
   "source": [
    "!python test.py --config config.yaml --image ../banana.jpg --language \"marathi\" --labels \"केळं\" \"सफरचंद\" \"गाडी\" --model_path best_hf_siglip_model.pth"
   ]
  },
  {
   "cell_type": "markdown",
   "metadata": {},
   "source": [
    "## Hinglish"
   ]
  },
  {
   "cell_type": "code",
   "execution_count": 9,
   "metadata": {
    "execution": {
     "iopub.execute_input": "2025-04-25T15:05:43.649585Z",
     "iopub.status.busy": "2025-04-25T15:05:43.649298Z",
     "iopub.status.idle": "2025-04-25T15:06:04.061532Z",
     "shell.execute_reply": "2025-04-25T15:06:04.060792Z",
     "shell.execute_reply.started": "2025-04-25T15:05:43.649551Z"
    },
    "trusted": true
   },
   "outputs": [
    {
     "name": "stdout",
     "output_type": "stream",
     "text": [
      "2025-04-25 15:05:47.456570: E external/local_xla/xla/stream_executor/cuda/cuda_fft.cc:477] Unable to register cuFFT factory: Attempting to register factory for plugin cuFFT when one has already been registered\n",
      "WARNING: All log messages before absl::InitializeLog() is called are written to STDERR\n",
      "E0000 00:00:1745593547.477126     286 cuda_dnn.cc:8310] Unable to register cuDNN factory: Attempting to register factory for plugin cuDNN when one has already been registered\n",
      "E0000 00:00:1745593547.483385     286 cuda_blas.cc:1418] Unable to register cuBLAS factory: Attempting to register factory for plugin cuBLAS when one has already been registered\n",
      "Config loaded from config.yaml\n",
      "Default device (pre-DDP): cuda\n",
      "Auto num_workers: 2\n",
      "Using HF Model: google/siglip-base-patch16-256-multilingual\n",
      "Checking multilingual caption files:\n",
      "  -> Found 'english': /kaggle/input/flickr8k/captions.txt\n",
      "  -> Found 'hindi': /kaggle/input/multi-lang/hindi_captions.txt\n",
      "  -> Found 'marathi': /kaggle/input/multi-lang/marathi-captions.txt\n",
      "------------------------------\n",
      "--- Starting Zero-Shot Classification (Lang: hinglish) ---\n",
      "Image: ../banana.jpg\n",
      "Labels: ['kela', 'seb', 'gaadi']\n",
      "Using model weights: best_hf_siglip_model.pth\n",
      "Base HF Model: google/siglip-base-patch16-256-multilingual\n",
      "Using device: cuda\n",
      "Initializing HF Processor: google/siglip-base-patch16-256-multilingual\n",
      "Using a slow image processor as `use_fast` is unset and a slow processor was saved with this model. `use_fast=True` will be the default behavior in v4.52, even if the model was saved with a slow processor. This will result in minor differences in outputs. You'll still be able to use a slow processor with `use_fast=False`.\n",
      "Initializing model wrapper...\n",
      "Loading pre-trained model: google/siglip-base-patch16-256-multilingual\n",
      "Model loaded successfully.\n",
      "/kaggle/working/Siglip/test.py:82: FutureWarning: You are using `torch.load` with `weights_only=False` (the current default value), which uses the default pickle module implicitly. It is possible to construct malicious pickle data which will execute arbitrary code during unpickling (See https://github.com/pytorch/pytorch/blob/main/SECURITY.md#untrusted-models for more details). In a future release, the default value for `weights_only` will be flipped to `True`. This limits the functions that could be executed during unpickling. Arbitrary objects will no longer be allowed to be loaded via this mode unless they are explicitly allowlisted by the user via `torch.serialization.add_safe_globals`. We recommend you start setting `weights_only=True` for any use case where you don't have full control of the loaded file. Please open an issue on GitHub for any issues related to this experimental feature.\n",
      "  model.load_state_dict(torch.load(model_path, map_location=device))\n",
      "Model wrapper created and fine-tuned weights loaded.\n",
      "------------------------------\n",
      "Processing input image...\n",
      "Generating prompts using 'hinglish' template...\n",
      "  Prompts: ['ek photo kela ka', 'ek photo seb ka', 'ek photo gaadi ka']\n",
      "Preparing model inputs using processor...\n",
      "Inputs prepared for model.\n",
      "------------------------------\n",
      "Encoding features and calculating similarities...\n",
      "Similarity calculation complete.\n",
      "------------------------------\n",
      "\n",
      "--- Zero-Shot Classification Results ---\n",
      "Image: banana.jpg\n",
      "Prompt Language: hinglish\n",
      "-----------------------------------\n",
      "                kela : 0.0027 (0.3%)\n",
      "               gaadi : 0.0008 (0.1%)\n",
      "                 seb : 0.0004 (0.0%)\n",
      "-----------------------------------\n",
      "Warning: Could not display plot: 'types.SimpleNamespace' object has no attribute 'language'\n",
      "--- Classification Finished ---\n",
      "\n",
      "Prediction Dictionary:\n",
      " {'kela': 0.0027339188382029533, 'seb': 0.00040029807132668793, 'gaadi': 0.0007649186300113797}\n"
     ]
    }
   ],
   "source": [
    "!python test.py --config config.yaml --image ../banana.jpg --language \"hinglish\" --labels \"kela\" \"seb\" \"gaadi\" --model_path best_hf_siglip_model.pth"
   ]
  },
  {
   "cell_type": "markdown",
   "metadata": {},
   "source": [
    "### END"
   ]
  }
 ],
 "metadata": {
  "kaggle": {
   "accelerator": "nvidiaTeslaT4",
   "dataSources": [
    {
     "databundleVersionId": 1141936,
     "datasetId": 623289,
     "sourceId": 1111676,
     "sourceType": "datasetVersion"
    },
    {
     "databundleVersionId": 7652893,
     "datasetId": 4401550,
     "sourceId": 7558580,
     "sourceType": "datasetVersion"
    },
    {
     "databundleVersionId": 11163278,
     "datasetId": 6686753,
     "sourceId": 10804650,
     "sourceType": "datasetVersion"
    },
    {
     "databundleVersionId": 2734511,
     "datasetId": 1637665,
     "sourceId": 2689942,
     "sourceType": "datasetVersion"
    },
    {
     "sourceId": 235995047,
     "sourceType": "kernelVersion"
    }
   ],
   "isGpuEnabled": true,
   "isInternetEnabled": true,
   "language": "python",
   "sourceType": "notebook"
  },
  "kernelspec": {
   "display_name": "Python 3",
   "language": "python",
   "name": "python3"
  },
  "language_info": {
   "codemirror_mode": {
    "name": "ipython",
    "version": 3
   },
   "file_extension": ".py",
   "mimetype": "text/x-python",
   "name": "python",
   "nbconvert_exporter": "python",
   "pygments_lexer": "ipython3",
   "version": "3.11.11"
  }
 },
 "nbformat": 4,
 "nbformat_minor": 4
}
